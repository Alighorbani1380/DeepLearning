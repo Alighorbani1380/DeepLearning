{
  "nbformat": 4,
  "nbformat_minor": 0,
  "metadata": {
    "colab": {
      "provenance": []
    },
    "kernelspec": {
      "name": "python3",
      "display_name": "Python 3"
    },
    "language_info": {
      "name": "python"
    }
  },
  "cells": [
    {
      "cell_type": "code",
      "execution_count": 29,
      "metadata": {
        "colab": {
          "base_uri": "https://localhost:8080/"
        },
        "id": "5gAmiHbwoOF3",
        "outputId": "6a7390fc-b82d-411d-8493-8f7e731ad879"
      },
      "outputs": [
        {
          "output_type": "stream",
          "name": "stdout",
          "text": [
            "LogisticRegression accuracy 0.798155737704918\n",
            "Epoch 1/3\n",
            "366/366 [==============================] - 5s 12ms/step - loss: 0.6069 - accuracy: 0.7561\n",
            "Epoch 2/3\n",
            "366/366 [==============================] - 4s 10ms/step - loss: 0.3464 - accuracy: 0.8710\n",
            "Epoch 3/3\n",
            "366/366 [==============================] - 4s 11ms/step - loss: 0.2234 - accuracy: 0.9238\n",
            "92/92 [==============================] - 0s 4ms/step - loss: 0.5419 - accuracy: 0.8046\n",
            "Neural Network accuracy 0.8046448230743408\n"
          ]
        }
      ],
      "source": [
        "import pandas as pd\n",
        "from sklearn.model_selection import train_test_split\n",
        "from sklearn.feature_extraction.text import CountVectorizer\n",
        "from sklearn.linear_model import LogisticRegression\n",
        "from sklearn.metrics import accuracy_score\n",
        "import tensorflow as tf\n",
        "import numpy as np\n",
        "\n",
        "data = pd.read_csv('Tweets.csv')\n",
        "X = data['text']\n",
        "L = data['airline_sentiment']\n",
        "\n",
        "y = []\n",
        "for s in L:\n",
        "    if s == 'negative':\n",
        "        y.append(0)\n",
        "    elif s == 'positive':\n",
        "        y.append(1)\n",
        "    else:\n",
        "        y.append(2)\n",
        "vectorizer = CountVectorizer()\n",
        "X = vectorizer.fit_transform(X)\n",
        "X_train, X_test, y_train, y_test = train_test_split(X, y, test_size=0.2, random_state=42)\n",
        "y_train = np.asarray(y_train).astype(\"float32\")\n",
        "y_test = np.asarray(y_test).astype(\"float32\")\n",
        "\n",
        "LogisticRegression_model = LogisticRegression(max_iter=1000)\n",
        "LogisticRegression_model.fit(X_train, y_train)\n",
        "LogisticRegression_pred = LogisticRegression_model.predict(X_test)\n",
        "LogisticRegression_accuracy = accuracy_score(y_test, LogisticRegression_pred)\n",
        "print(\"LogisticRegression accuracy\", LogisticRegression_accuracy)\n",
        "\n",
        "model = Sequential([\n",
        "    Dense(64, activation='relu', input_shape=(X_train.shape[1],)),\n",
        "    Dense(3, activation='softmax')\n",
        "])\n",
        "model.compile(optimizer='adam', loss='sparse_categorical_crossentropy', metrics=['accuracy'])\n",
        "model.fit(X_train.toarray(),y_train, epochs=3, batch_size=32)\n",
        "nn_accuracy = model.evaluate(X_test.toarray(), y_test)[1]\n",
        "print(\"Neural Network accuracy\", nn_accuracy)"
      ]
    }
  ]
}